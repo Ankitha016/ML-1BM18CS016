{
  "nbformat": 4,
  "nbformat_minor": 0,
  "metadata": {
    "colab": {
      "name": "bayesian-network",
      "provenance": []
    },
    "kernelspec": {
      "name": "python3",
      "display_name": "Python 3"
    },
    "language_info": {
      "name": "python"
    }
  },
  "cells": [
    {
      "cell_type": "code",
      "metadata": {
        "colab": {
          "base_uri": "https://localhost:8080/"
        },
        "id": "lUCvZdnH1_8J",
        "outputId": "4e1364e9-7ec3-4ae8-8647-2e8aeec13ad3"
      },
      "source": [
        "!pip install pgmpy"
      ],
      "execution_count": 1,
      "outputs": [
        {
          "output_type": "stream",
          "text": [
            "Collecting pgmpy\n",
            "\u001b[?25l  Downloading https://files.pythonhosted.org/packages/a3/0e/d9fadbfaa35e010c04d43acd3ae9fbefec98897dd7d61a6b7eb5a8b34072/pgmpy-0.1.14-py3-none-any.whl (331kB)\n",
            "\r\u001b[K     |█                               | 10kB 13.1MB/s eta 0:00:01\r\u001b[K     |██                              | 20kB 10.7MB/s eta 0:00:01\r\u001b[K     |███                             | 30kB 5.4MB/s eta 0:00:01\r\u001b[K     |████                            | 40kB 5.3MB/s eta 0:00:01\r\u001b[K     |█████                           | 51kB 2.9MB/s eta 0:00:01\r\u001b[K     |██████                          | 61kB 3.4MB/s eta 0:00:01\r\u001b[K     |███████                         | 71kB 3.4MB/s eta 0:00:01\r\u001b[K     |████████                        | 81kB 3.7MB/s eta 0:00:01\r\u001b[K     |█████████                       | 92kB 3.6MB/s eta 0:00:01\r\u001b[K     |█████████▉                      | 102kB 3.9MB/s eta 0:00:01\r\u001b[K     |██████████▉                     | 112kB 3.9MB/s eta 0:00:01\r\u001b[K     |███████████▉                    | 122kB 3.9MB/s eta 0:00:01\r\u001b[K     |████████████▉                   | 133kB 3.9MB/s eta 0:00:01\r\u001b[K     |█████████████▉                  | 143kB 3.9MB/s eta 0:00:01\r\u001b[K     |██████████████▉                 | 153kB 3.9MB/s eta 0:00:01\r\u001b[K     |███████████████▉                | 163kB 3.9MB/s eta 0:00:01\r\u001b[K     |████████████████▉               | 174kB 3.9MB/s eta 0:00:01\r\u001b[K     |█████████████████▉              | 184kB 3.9MB/s eta 0:00:01\r\u001b[K     |██████████████████▉             | 194kB 3.9MB/s eta 0:00:01\r\u001b[K     |███████████████████▊            | 204kB 3.9MB/s eta 0:00:01\r\u001b[K     |████████████████████▊           | 215kB 3.9MB/s eta 0:00:01\r\u001b[K     |█████████████████████▊          | 225kB 3.9MB/s eta 0:00:01\r\u001b[K     |██████████████████████▊         | 235kB 3.9MB/s eta 0:00:01\r\u001b[K     |███████████████████████▊        | 245kB 3.9MB/s eta 0:00:01\r\u001b[K     |████████████████████████▊       | 256kB 3.9MB/s eta 0:00:01\r\u001b[K     |█████████████████████████▊      | 266kB 3.9MB/s eta 0:00:01\r\u001b[K     |██████████████████████████▊     | 276kB 3.9MB/s eta 0:00:01\r\u001b[K     |███████████████████████████▊    | 286kB 3.9MB/s eta 0:00:01\r\u001b[K     |████████████████████████████▊   | 296kB 3.9MB/s eta 0:00:01\r\u001b[K     |█████████████████████████████▋  | 307kB 3.9MB/s eta 0:00:01\r\u001b[K     |██████████████████████████████▋ | 317kB 3.9MB/s eta 0:00:01\r\u001b[K     |███████████████████████████████▋| 327kB 3.9MB/s eta 0:00:01\r\u001b[K     |████████████████████████████████| 337kB 3.9MB/s \n",
            "\u001b[?25hRequirement already satisfied: numpy in /usr/local/lib/python3.7/dist-packages (from pgmpy) (1.19.5)\n",
            "Requirement already satisfied: torch in /usr/local/lib/python3.7/dist-packages (from pgmpy) (1.8.1+cu101)\n",
            "Requirement already satisfied: scikit-learn in /usr/local/lib/python3.7/dist-packages (from pgmpy) (0.22.2.post1)\n",
            "Requirement already satisfied: pandas in /usr/local/lib/python3.7/dist-packages (from pgmpy) (1.1.5)\n",
            "Requirement already satisfied: joblib in /usr/local/lib/python3.7/dist-packages (from pgmpy) (1.0.1)\n",
            "Requirement already satisfied: networkx in /usr/local/lib/python3.7/dist-packages (from pgmpy) (2.5.1)\n",
            "Requirement already satisfied: statsmodels in /usr/local/lib/python3.7/dist-packages (from pgmpy) (0.10.2)\n",
            "Requirement already satisfied: tqdm in /usr/local/lib/python3.7/dist-packages (from pgmpy) (4.41.1)\n",
            "Requirement already satisfied: scipy in /usr/local/lib/python3.7/dist-packages (from pgmpy) (1.4.1)\n",
            "Requirement already satisfied: pyparsing in /usr/local/lib/python3.7/dist-packages (from pgmpy) (2.4.7)\n",
            "Requirement already satisfied: typing-extensions in /usr/local/lib/python3.7/dist-packages (from torch->pgmpy) (3.7.4.3)\n",
            "Requirement already satisfied: python-dateutil>=2.7.3 in /usr/local/lib/python3.7/dist-packages (from pandas->pgmpy) (2.8.1)\n",
            "Requirement already satisfied: pytz>=2017.2 in /usr/local/lib/python3.7/dist-packages (from pandas->pgmpy) (2018.9)\n",
            "Requirement already satisfied: decorator<5,>=4.3 in /usr/local/lib/python3.7/dist-packages (from networkx->pgmpy) (4.4.2)\n",
            "Requirement already satisfied: patsy>=0.4.0 in /usr/local/lib/python3.7/dist-packages (from statsmodels->pgmpy) (0.5.1)\n",
            "Requirement already satisfied: six>=1.5 in /usr/local/lib/python3.7/dist-packages (from python-dateutil>=2.7.3->pandas->pgmpy) (1.15.0)\n",
            "Installing collected packages: pgmpy\n",
            "Successfully installed pgmpy-0.1.14\n"
          ],
          "name": "stdout"
        }
      ]
    },
    {
      "cell_type": "code",
      "metadata": {
        "id": "J1l-fMUX2gQT"
      },
      "source": [
        "import numpy as np\n",
        "import pandas as pd\n",
        "import csv\n",
        "from pgmpy.estimators import MaximumLikelihoodEstimator\n",
        "from pgmpy.models import BayesianModel\n",
        "from pgmpy.inference import VariableElimination"
      ],
      "execution_count": null,
      "outputs": []
    },
    {
      "cell_type": "code",
      "metadata": {
        "colab": {
          "base_uri": "https://localhost:8080/"
        },
        "id": "xiJXHv0H2tXO",
        "outputId": "bd833e61-d340-4b51-f437-e3923cb51e6c"
      },
      "source": [
        "heartDisease = pd.read_csv('/content/heart.csv')\n",
        "heartDisease = heartDisease.replace('?',np.nan)\n",
        "\n",
        "print('Sample instances from the dataset are given below')\n",
        "print(heartDisease.head())\n",
        "print('\\n Attributes and datatypes')\n",
        "print(heartDisease.dtypes)"
      ],
      "execution_count": 5,
      "outputs": [
        {
          "output_type": "stream",
          "text": [
            "Sample instances from the dataset are given below\n",
            "   age  sex  cp  trestbps  chol  ...  oldpeak  slope  ca  thal  heartdisease\n",
            "0   63    1   1       145   233  ...      2.3      3   0     6             0\n",
            "1   67    1   4       160   286  ...      1.5      2   3     3             2\n",
            "2   67    1   4       120   229  ...      2.6      2   2     7             1\n",
            "3   37    1   3       130   250  ...      3.5      3   0     3             0\n",
            "4   41    0   2       130   204  ...      1.4      1   0     3             0\n",
            "\n",
            "[5 rows x 14 columns]\n",
            "\n",
            " Attributes and datatypes\n",
            "age               int64\n",
            "sex               int64\n",
            "cp                int64\n",
            "trestbps          int64\n",
            "chol              int64\n",
            "fbs               int64\n",
            "restecg           int64\n",
            "thalach           int64\n",
            "exang             int64\n",
            "oldpeak         float64\n",
            "slope             int64\n",
            "ca               object\n",
            "thal             object\n",
            "heartdisease      int64\n",
            "dtype: object\n"
          ],
          "name": "stdout"
        }
      ]
    },
    {
      "cell_type": "code",
      "metadata": {
        "id": "ZSychaLN2wFY"
      },
      "source": [
        "model = BayesianModel([('age','heartdisease'),('sex','heartdisease'),('exang','heartdisease'),('cp','heartdisease'),('heartdisease','restecg'),('heartdisease','chol')])"
      ],
      "execution_count": 8,
      "outputs": []
    },
    {
      "cell_type": "code",
      "metadata": {
        "colab": {
          "base_uri": "https://localhost:8080/"
        },
        "id": "YkQj5aR83OLI",
        "outputId": "777a5c6d-df31-4528-d7fe-b9435cb300ff"
      },
      "source": [
        "print('\\nLearning CPD using Maximum likelihood estimators')\n",
        "model.fit(heartDisease,estimator=MaximumLikelihoodEstimator)\n",
        "\n",
        "print('\\nInferencing with Bayesian Network:')\n",
        "HeartDiseasetest_infer = VariableElimination(model)"
      ],
      "execution_count": 9,
      "outputs": [
        {
          "output_type": "stream",
          "text": [
            "\n",
            "Learning CPD using Maximum likelihood estimators\n",
            "\n",
            "Inferencing with Bayesian Network:\n"
          ],
          "name": "stdout"
        }
      ]
    },
    {
      "cell_type": "code",
      "metadata": {
        "colab": {
          "base_uri": "https://localhost:8080/"
        },
        "id": "TtwSGyuN3Uqy",
        "outputId": "69a6db92-950e-485a-885f-d3eea19006cb"
      },
      "source": [
        "print('\\n1.Probability of HeartDisease given evidence = restecg :')\n",
        "q1=HeartDiseasetest_infer.query(variables=['heartdisease'],evidence={'restecg':1})\n",
        "print(q1)\n",
        "\n",
        "print('\\n2.Probability of HeartDisease given evidence = cp :')\n",
        "q2=HeartDiseasetest_infer.query(variables=['heartdisease'],evidence={'cp':2})\n",
        "print(q2)"
      ],
      "execution_count": 10,
      "outputs": [
        {
          "output_type": "stream",
          "text": [
            "Finding Elimination Order: : 100%|██████████| 5/5 [00:00<00:00, 744.07it/s]\n",
            "Eliminating: cp: 100%|██████████| 5/5 [00:00<00:00, 86.70it/s]"
          ],
          "name": "stderr"
        },
        {
          "output_type": "stream",
          "text": [
            "\n",
            "1.Probability of HeartDisease given evidence = restecg :\n",
            "+-----------------+---------------------+\n",
            "| heartdisease    |   phi(heartdisease) |\n",
            "+=================+=====================+\n",
            "| heartdisease(0) |              0.1012 |\n",
            "+-----------------+---------------------+\n",
            "| heartdisease(1) |              0.0000 |\n",
            "+-----------------+---------------------+\n",
            "| heartdisease(2) |              0.2392 |\n",
            "+-----------------+---------------------+\n",
            "| heartdisease(3) |              0.2015 |\n",
            "+-----------------+---------------------+\n",
            "| heartdisease(4) |              0.4581 |\n",
            "+-----------------+---------------------+\n",
            "\n",
            "2.Probability of HeartDisease given evidence = cp :\n"
          ],
          "name": "stdout"
        },
        {
          "output_type": "stream",
          "text": [
            "\n",
            "Finding Elimination Order: : 100%|██████████| 5/5 [00:00<00:00, 1263.50it/s]\n",
            "Eliminating: age: 100%|██████████| 5/5 [00:00<00:00, 108.49it/s]"
          ],
          "name": "stderr"
        },
        {
          "output_type": "stream",
          "text": [
            "+-----------------+---------------------+\n",
            "| heartdisease    |   phi(heartdisease) |\n",
            "+=================+=====================+\n",
            "| heartdisease(0) |              0.3610 |\n",
            "+-----------------+---------------------+\n",
            "| heartdisease(1) |              0.2159 |\n",
            "+-----------------+---------------------+\n",
            "| heartdisease(2) |              0.1373 |\n",
            "+-----------------+---------------------+\n",
            "| heartdisease(3) |              0.1537 |\n",
            "+-----------------+---------------------+\n",
            "| heartdisease(4) |              0.1321 |\n",
            "+-----------------+---------------------+\n"
          ],
          "name": "stdout"
        },
        {
          "output_type": "stream",
          "text": [
            "\n"
          ],
          "name": "stderr"
        }
      ]
    }
  ]
}