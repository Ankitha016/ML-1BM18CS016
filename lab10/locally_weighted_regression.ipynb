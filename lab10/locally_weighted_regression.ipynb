{
  "nbformat": 4,
  "nbformat_minor": 5,
  "metadata": {
    "kernelspec": {
      "display_name": "Python 3",
      "language": "python",
      "name": "python3"
    },
    "language_info": {
      "codemirror_mode": {
        "name": "ipython",
        "version": 3
      },
      "file_extension": ".py",
      "mimetype": "text/x-python",
      "name": "python",
      "nbconvert_exporter": "python",
      "pygments_lexer": "ipython3",
      "version": "3.7.9"
    },
    "papermill": {
      "default_parameters": {},
      "duration": 9.059925,
      "end_time": "2021-06-14T19:14:30.675708",
      "environment_variables": {},
      "exception": null,
      "input_path": "__notebook__.ipynb",
      "output_path": "__notebook__.ipynb",
      "parameters": {},
      "start_time": "2021-06-14T19:14:21.615783",
      "version": "2.3.2"
    },
    "colab": {
      "name": "locally-weighted-regression.ipynb",
      "provenance": []
    }
  },
  "cells": [
    {
      "cell_type": "code",
      "metadata": {
        "execution": {
          "iopub.execute_input": "2021-06-14T19:14:27.717953Z",
          "iopub.status.busy": "2021-06-14T19:14:27.717307Z",
          "iopub.status.idle": "2021-06-14T19:14:27.720542Z",
          "shell.execute_reply": "2021-06-14T19:14:27.719948Z",
          "shell.execute_reply.started": "2021-06-14T19:10:33.492480Z"
        },
        "papermill": {
          "duration": 0.01759,
          "end_time": "2021-06-14T19:14:27.720699",
          "exception": false,
          "start_time": "2021-06-14T19:14:27.703109",
          "status": "completed"
        },
        "tags": [],
        "id": "closing-scoop"
      },
      "source": [
        "import numpy as np\n",
        "import pandas as pd\n",
        "import matplotlib.pyplot as plt"
      ],
      "id": "closing-scoop",
      "execution_count": 1,
      "outputs": []
    },
    {
      "cell_type": "markdown",
      "metadata": {
        "papermill": {
          "duration": 0.007524,
          "end_time": "2021-06-14T19:14:27.736331",
          "exception": false,
          "start_time": "2021-06-14T19:14:27.728807",
          "status": "completed"
        },
        "tags": [],
        "id": "adaptive-angola"
      },
      "source": [
        "# Functions"
      ],
      "id": "adaptive-angola"
    },
    {
      "cell_type": "code",
      "metadata": {
        "execution": {
          "iopub.execute_input": "2021-06-14T19:14:27.761167Z",
          "iopub.status.busy": "2021-06-14T19:14:27.760507Z",
          "iopub.status.idle": "2021-06-14T19:14:27.763632Z",
          "shell.execute_reply": "2021-06-14T19:14:27.763101Z",
          "shell.execute_reply.started": "2021-06-14T19:10:33.507610Z"
        },
        "papermill": {
          "duration": 0.019771,
          "end_time": "2021-06-14T19:14:27.763768",
          "exception": false,
          "start_time": "2021-06-14T19:14:27.743997",
          "status": "completed"
        },
        "tags": [],
        "id": "polyphonic-isolation"
      },
      "source": [
        "# kernel smoothing function\n",
        "def kernel(point, xmat, k):\n",
        "    m,n = np.shape(xmat)\n",
        "    weights = np.mat(np.eye((m)))\n",
        "    \n",
        "    for j in range(m):\n",
        "        diff = point - X[j]\n",
        "        weights[j, j] = np.exp(diff * diff.T / (-2.0 * k**2))\n",
        "    \n",
        "    return weights\n",
        "\n",
        "# function to return local weight of eah traiining example\n",
        "def localWeight(point, xmat, ymat, k):\n",
        "    wt = kernel(point, xmat, k)\n",
        "    W = (X.T * (wt*X)).I * (X.T * wt * ymat.T)\n",
        "    return W\n",
        "\n",
        "# root function that drives the algorithm\n",
        "def localWeightRegression(xmat, ymat, k):\n",
        "    m,n = np.shape(xmat)\n",
        "    ypred = np.zeros(m)\n",
        "    \n",
        "    for i in range(m):\n",
        "        ypred[i] = xmat[i] * localWeight(xmat[i], xmat, ymat, k)\n",
        "        \n",
        "    return ypred"
      ],
      "id": "polyphonic-isolation",
      "execution_count": 2,
      "outputs": []
    },
    {
      "cell_type": "markdown",
      "metadata": {
        "papermill": {
          "duration": 0.007848,
          "end_time": "2021-06-14T19:14:27.779501",
          "exception": false,
          "start_time": "2021-06-14T19:14:27.771653",
          "status": "completed"
        },
        "tags": [],
        "id": "union-phase"
      },
      "source": [
        "# Data"
      ],
      "id": "union-phase"
    },
    {
      "cell_type": "code",
      "metadata": {
        "execution": {
          "iopub.execute_input": "2021-06-14T19:14:27.802143Z",
          "iopub.status.busy": "2021-06-14T19:14:27.801496Z",
          "iopub.status.idle": "2021-06-14T19:14:27.830058Z",
          "shell.execute_reply": "2021-06-14T19:14:27.830945Z",
          "shell.execute_reply.started": "2021-06-14T19:13:47.565345Z"
        },
        "papermill": {
          "duration": 0.043604,
          "end_time": "2021-06-14T19:14:27.831172",
          "exception": false,
          "start_time": "2021-06-14T19:14:27.787568",
          "status": "completed"
        },
        "tags": [],
        "colab": {
          "base_uri": "https://localhost:8080/"
        },
        "id": "electronic-setup",
        "outputId": "30b09004-ca9c-45c9-db1c-7394a2b68173"
      },
      "source": [
        "#import data\n",
        "data = pd.read_csv('/content/tips.csv')\n",
        "\n",
        "# place them in suitable data types\n",
        "colA = np.array(data.total_bill)\n",
        "colB = np.array(data.tip)\n",
        "\n",
        "mcolA = np.mat(colA)\n",
        "mcolB = np.mat(colB)\n",
        "\n",
        "m = np.shape(mcolB)[1]\n",
        "one = np.ones((1, m), dtype = int)\n",
        "\n",
        "# horizontal stacking\n",
        "X = np.hstack((one.T, mcolA.T))\n",
        "print(X.shape)"
      ],
      "id": "electronic-setup",
      "execution_count": 4,
      "outputs": [
        {
          "output_type": "stream",
          "text": [
            "(244, 2)\n"
          ],
          "name": "stdout"
        }
      ]
    },
    {
      "cell_type": "markdown",
      "metadata": {
        "papermill": {
          "duration": 0.007736,
          "end_time": "2021-06-14T19:14:27.848482",
          "exception": false,
          "start_time": "2021-06-14T19:14:27.840746",
          "status": "completed"
        },
        "tags": [],
        "id": "critical-hungarian"
      },
      "source": [
        "# Model"
      ],
      "id": "critical-hungarian"
    },
    {
      "cell_type": "code",
      "metadata": {
        "execution": {
          "iopub.execute_input": "2021-06-14T19:14:27.867859Z",
          "iopub.status.busy": "2021-06-14T19:14:27.867194Z",
          "iopub.status.idle": "2021-06-14T19:14:29.818585Z",
          "shell.execute_reply": "2021-06-14T19:14:29.819505Z",
          "shell.execute_reply.started": "2021-06-14T19:13:50.302903Z"
        },
        "papermill": {
          "duration": 1.963216,
          "end_time": "2021-06-14T19:14:29.819803",
          "exception": false,
          "start_time": "2021-06-14T19:14:27.856587",
          "status": "completed"
        },
        "tags": [],
        "id": "municipal-universal"
      },
      "source": [
        "# predicting values using LWLR\n",
        "ypred = localWeightRegression(X, mcolB, 0.8)"
      ],
      "id": "municipal-universal",
      "execution_count": 5,
      "outputs": []
    },
    {
      "cell_type": "markdown",
      "metadata": {
        "papermill": {
          "duration": 0.008682,
          "end_time": "2021-06-14T19:14:29.842814",
          "exception": false,
          "start_time": "2021-06-14T19:14:29.834132",
          "status": "completed"
        },
        "tags": [],
        "id": "exterior-allocation"
      },
      "source": [
        "# Analysis"
      ],
      "id": "exterior-allocation"
    },
    {
      "cell_type": "code",
      "metadata": {
        "execution": {
          "iopub.execute_input": "2021-06-14T19:14:29.863206Z",
          "iopub.status.busy": "2021-06-14T19:14:29.862231Z",
          "iopub.status.idle": "2021-06-14T19:14:30.039700Z",
          "shell.execute_reply": "2021-06-14T19:14:30.038954Z",
          "shell.execute_reply.started": "2021-06-14T19:14:06.696932Z"
        },
        "papermill": {
          "duration": 0.18877,
          "end_time": "2021-06-14T19:14:30.039851",
          "exception": false,
          "start_time": "2021-06-14T19:14:29.851081",
          "status": "completed"
        },
        "tags": [],
        "colab": {
          "base_uri": "https://localhost:8080/",
          "height": 279
        },
        "id": "hairy-samba",
        "outputId": "8ebc5660-f705-4c9f-e25a-1d00f434f498"
      },
      "source": [
        "# plotting the predicted graph\n",
        "xsort = X.copy()\n",
        "xsort.sort(axis=0)\n",
        "plt.scatter(colA, colB, color='red')\n",
        "plt.plot(xsort[:, 1], ypred[X[:, 1].argsort(0)], color='blue', linewidth=5)\n",
        "plt.xlabel('Total Bill')\n",
        "plt.ylabel('Tip')\n",
        "plt.show()"
      ],
      "id": "hairy-samba",
      "execution_count": 6,
      "outputs": [
        {
          "output_type": "display_data",
          "data": {
            "image/png": "[encoded data removed]",
            "text/plain": [
              "<Figure size 432x288 with 1 Axes>"
            ]
          },
          "metadata": {
            "tags": [],
            "needs_background": "light"
          }
        }
      ]
    },
    {
      "cell_type": "code",
      "metadata": {
        "papermill": {
          "duration": 0.008767,
          "end_time": "2021-06-14T19:14:30.057927",
          "exception": false,
          "start_time": "2021-06-14T19:14:30.049160",
          "status": "completed"
        },
        "tags": [],
        "id": "daily-headquarters"
      },
      "source": [
        ""
      ],
      "id": "daily-headquarters",
      "execution_count": null,
      "outputs": []
    }
  ]
}