{
  "nbformat": 4,
  "nbformat_minor": 5,
  "metadata": {
    "kernelspec": {
      "display_name": "Python 3",
      "language": "python",
      "name": "python3"
    },
    "language_info": {
      "codemirror_mode": {
        "name": "ipython",
        "version": 3
      },
      "file_extension": ".py",
      "mimetype": "text/x-python",
      "name": "python",
      "nbconvert_exporter": "python",
      "pygments_lexer": "ipython3",
      "version": "3.7.9"
    },
    "papermill": {
      "default_parameters": {},
      "duration": 9.26252,
      "end_time": "2021-06-14T17:56:40.668648",
      "environment_variables": {},
      "exception": null,
      "input_path": "__notebook__.ipynb",
      "output_path": "__notebook__.ipynb",
      "parameters": {},
      "start_time": "2021-06-14T17:56:31.406128",
      "version": "2.3.2"
    },
    "colab": {
      "name": "linear-regression.ipynb",
      "provenance": []
    }
  },
  "cells": [
    {
      "cell_type": "code",
      "metadata": {
        "_cell_guid": "b1076dfc-b9ad-4769-8c92-a6c4dae69d19",
        "_uuid": "8f2839f25d086af736a60e9eeb907d3b93b6e0e5",
        "execution": {
          "iopub.execute_input": "2021-06-14T17:56:37.872660Z",
          "iopub.status.busy": "2021-06-14T17:56:37.871454Z",
          "iopub.status.idle": "2021-06-14T17:56:39.110167Z",
          "shell.execute_reply": "2021-06-14T17:56:39.109289Z",
          "shell.execute_reply.started": "2021-06-14T17:45:48.003507Z"
        },
        "papermill": {
          "duration": 1.254492,
          "end_time": "2021-06-14T17:56:39.110346",
          "exception": false,
          "start_time": "2021-06-14T17:56:37.855854",
          "status": "completed"
        },
        "tags": [],
        "id": "addressed-uruguay"
      },
      "source": [
        "import matplotlib.pyplot as plt\n",
        "import numpy as np\n",
        "import pandas as pd\n",
        "from sklearn.model_selection import train_test_split\n",
        "from sklearn.linear_model import LinearRegression\n",
        "from sklearn.metrics import mean_squared_error"
      ],
      "id": "addressed-uruguay",
      "execution_count": 1,
      "outputs": []
    },
    {
      "cell_type": "markdown",
      "metadata": {
        "papermill": {
          "duration": 0.010007,
          "end_time": "2021-06-14T17:56:39.131212",
          "exception": false,
          "start_time": "2021-06-14T17:56:39.121205",
          "status": "completed"
        },
        "tags": [],
        "id": "golden-processor"
      },
      "source": [
        "# Data"
      ],
      "id": "golden-processor"
    },
    {
      "cell_type": "code",
      "metadata": {
        "execution": {
          "iopub.execute_input": "2021-06-14T17:56:39.157833Z",
          "iopub.status.busy": "2021-06-14T17:56:39.157071Z",
          "iopub.status.idle": "2021-06-14T17:56:39.269958Z",
          "shell.execute_reply": "2021-06-14T17:56:39.269205Z",
          "shell.execute_reply.started": "2021-06-14T17:50:09.712230Z"
        },
        "papermill": {
          "duration": 0.128556,
          "end_time": "2021-06-14T17:56:39.270105",
          "exception": false,
          "start_time": "2021-06-14T17:56:39.141549",
          "status": "completed"
        },
        "tags": [],
        "id": "handmade-prospect"
      },
      "source": [
        "df = pd.read_csv('/content/kc_house_data.csv')"
      ],
      "id": "handmade-prospect",
      "execution_count": 2,
      "outputs": []
    },
    {
      "cell_type": "code",
      "metadata": {
        "execution": {
          "iopub.execute_input": "2021-06-14T17:56:39.312227Z",
          "iopub.status.busy": "2021-06-14T17:56:39.311534Z",
          "iopub.status.idle": "2021-06-14T17:56:39.340032Z",
          "shell.execute_reply": "2021-06-14T17:56:39.339485Z",
          "shell.execute_reply.started": "2021-06-14T17:50:09.857397Z"
        },
        "papermill": {
          "duration": 0.058878,
          "end_time": "2021-06-14T17:56:39.340179",
          "exception": false,
          "start_time": "2021-06-14T17:56:39.281301",
          "status": "completed"
        },
        "tags": [],
        "colab": {
          "base_uri": "https://localhost:8080/",
          "height": 224
        },
        "id": "advanced-techno",
        "outputId": "c6125e52-0cdd-4e9a-8488-f0d8f9ef365d"
      },
      "source": [
        "df.head()"
      ],
      "id": "advanced-techno",
      "execution_count": 3,
      "outputs": [
        {
          "output_type": "execute_result",
          "data": {
            "text/html": [
              "<div>\n",
              "<style scoped>\n",
              "    .dataframe tbody tr th:only-of-type {\n",
              "        vertical-align: middle;\n",
              "    }\n",
              "\n",
              "    .dataframe tbody tr th {\n",
              "        vertical-align: top;\n",
              "    }\n",
              "\n",
              "    .dataframe thead th {\n",
              "        text-align: right;\n",
              "    }\n",
              "</style>\n",
              "<table border=\"1\" class=\"dataframe\">\n",
              "  <thead>\n",
              "    <tr style=\"text-align: right;\">\n",
              "      <th></th>\n",
              "      <th>id</th>\n",
              "      <th>date</th>\n",
              "      <th>price</th>\n",
              "      <th>bedrooms</th>\n",
              "      <th>bathrooms</th>\n",
              "      <th>sqft_living</th>\n",
              "      <th>sqft_lot</th>\n",
              "      <th>floors</th>\n",
              "      <th>waterfront</th>\n",
              "      <th>view</th>\n",
              "      <th>condition</th>\n",
              "      <th>grade</th>\n",
              "      <th>sqft_above</th>\n",
              "      <th>sqft_basement</th>\n",
              "      <th>yr_built</th>\n",
              "      <th>yr_renovated</th>\n",
              "      <th>zipcode</th>\n",
              "      <th>lat</th>\n",
              "      <th>long</th>\n",
              "      <th>sqft_living15</th>\n",
              "      <th>sqft_lot15</th>\n",
              "    </tr>\n",
              "  </thead>\n",
              "  <tbody>\n",
              "    <tr>\n",
              "      <th>0</th>\n",
              "      <td>7129300520</td>\n",
              "      <td>20141013T000000</td>\n",
              "      <td>221900.0</td>\n",
              "      <td>3</td>\n",
              "      <td>1.00</td>\n",
              "      <td>1180</td>\n",
              "      <td>5650</td>\n",
              "      <td>1.0</td>\n",
              "      <td>0</td>\n",
              "      <td>0</td>\n",
              "      <td>3</td>\n",
              "      <td>7</td>\n",
              "      <td>1180</td>\n",
              "      <td>0</td>\n",
              "      <td>1955</td>\n",
              "      <td>0</td>\n",
              "      <td>98178</td>\n",
              "      <td>47.5112</td>\n",
              "      <td>-122.257</td>\n",
              "      <td>1340</td>\n",
              "      <td>5650</td>\n",
              "    </tr>\n",
              "    <tr>\n",
              "      <th>1</th>\n",
              "      <td>6414100192</td>\n",
              "      <td>20141209T000000</td>\n",
              "      <td>538000.0</td>\n",
              "      <td>3</td>\n",
              "      <td>2.25</td>\n",
              "      <td>2570</td>\n",
              "      <td>7242</td>\n",
              "      <td>2.0</td>\n",
              "      <td>0</td>\n",
              "      <td>0</td>\n",
              "      <td>3</td>\n",
              "      <td>7</td>\n",
              "      <td>2170</td>\n",
              "      <td>400</td>\n",
              "      <td>1951</td>\n",
              "      <td>1991</td>\n",
              "      <td>98125</td>\n",
              "      <td>47.7210</td>\n",
              "      <td>-122.319</td>\n",
              "      <td>1690</td>\n",
              "      <td>7639</td>\n",
              "    </tr>\n",
              "    <tr>\n",
              "      <th>2</th>\n",
              "      <td>5631500400</td>\n",
              "      <td>20150225T000000</td>\n",
              "      <td>180000.0</td>\n",
              "      <td>2</td>\n",
              "      <td>1.00</td>\n",
              "      <td>770</td>\n",
              "      <td>10000</td>\n",
              "      <td>1.0</td>\n",
              "      <td>0</td>\n",
              "      <td>0</td>\n",
              "      <td>3</td>\n",
              "      <td>6</td>\n",
              "      <td>770</td>\n",
              "      <td>0</td>\n",
              "      <td>1933</td>\n",
              "      <td>0</td>\n",
              "      <td>98028</td>\n",
              "      <td>47.7379</td>\n",
              "      <td>-122.233</td>\n",
              "      <td>2720</td>\n",
              "      <td>8062</td>\n",
              "    </tr>\n",
              "    <tr>\n",
              "      <th>3</th>\n",
              "      <td>2487200875</td>\n",
              "      <td>20141209T000000</td>\n",
              "      <td>604000.0</td>\n",
              "      <td>4</td>\n",
              "      <td>3.00</td>\n",
              "      <td>1960</td>\n",
              "      <td>5000</td>\n",
              "      <td>1.0</td>\n",
              "      <td>0</td>\n",
              "      <td>0</td>\n",
              "      <td>5</td>\n",
              "      <td>7</td>\n",
              "      <td>1050</td>\n",
              "      <td>910</td>\n",
              "      <td>1965</td>\n",
              "      <td>0</td>\n",
              "      <td>98136</td>\n",
              "      <td>47.5208</td>\n",
              "      <td>-122.393</td>\n",
              "      <td>1360</td>\n",
              "      <td>5000</td>\n",
              "    </tr>\n",
              "    <tr>\n",
              "      <th>4</th>\n",
              "      <td>1954400510</td>\n",
              "      <td>20150218T000000</td>\n",
              "      <td>510000.0</td>\n",
              "      <td>3</td>\n",
              "      <td>2.00</td>\n",
              "      <td>1680</td>\n",
              "      <td>8080</td>\n",
              "      <td>1.0</td>\n",
              "      <td>0</td>\n",
              "      <td>0</td>\n",
              "      <td>3</td>\n",
              "      <td>8</td>\n",
              "      <td>1680</td>\n",
              "      <td>0</td>\n",
              "      <td>1987</td>\n",
              "      <td>0</td>\n",
              "      <td>98074</td>\n",
              "      <td>47.6168</td>\n",
              "      <td>-122.045</td>\n",
              "      <td>1800</td>\n",
              "      <td>7503</td>\n",
              "    </tr>\n",
              "  </tbody>\n",
              "</table>\n",
              "</div>"
            ],
            "text/plain": [
              "           id             date     price  ...     long  sqft_living15  sqft_lot15\n",
              "0  7129300520  20141013T000000  221900.0  ... -122.257           1340        5650\n",
              "1  6414100192  20141209T000000  538000.0  ... -122.319           1690        7639\n",
              "2  5631500400  20150225T000000  180000.0  ... -122.233           2720        8062\n",
              "3  2487200875  20141209T000000  604000.0  ... -122.393           1360        5000\n",
              "4  1954400510  20150218T000000  510000.0  ... -122.045           1800        7503\n",
              "\n",
              "[5 rows x 21 columns]"
            ]
          },
          "metadata": {
            "tags": []
          },
          "execution_count": 3
        }
      ]
    },
    {
      "cell_type": "code",
      "metadata": {
        "execution": {
          "iopub.execute_input": "2021-06-14T17:56:39.369194Z",
          "iopub.status.busy": "2021-06-14T17:56:39.368222Z",
          "iopub.status.idle": "2021-06-14T17:56:39.371618Z",
          "shell.execute_reply": "2021-06-14T17:56:39.371124Z",
          "shell.execute_reply.started": "2021-06-14T17:53:52.040735Z"
        },
        "papermill": {
          "duration": 0.020205,
          "end_time": "2021-06-14T17:56:39.371757",
          "exception": false,
          "start_time": "2021-06-14T17:56:39.351552",
          "status": "completed"
        },
        "tags": [],
        "id": "lonely-norfolk"
      },
      "source": [
        "X = np.array(df['sqft_living']).reshape(-1, 1)\n",
        "y = df['price']"
      ],
      "id": "lonely-norfolk",
      "execution_count": 5,
      "outputs": []
    },
    {
      "cell_type": "code",
      "metadata": {
        "execution": {
          "iopub.execute_input": "2021-06-14T17:56:39.401196Z",
          "iopub.status.busy": "2021-06-14T17:56:39.400023Z",
          "iopub.status.idle": "2021-06-14T17:56:39.406182Z",
          "shell.execute_reply": "2021-06-14T17:56:39.405486Z",
          "shell.execute_reply.started": "2021-06-14T17:53:52.212824Z"
        },
        "papermill": {
          "duration": 0.023246,
          "end_time": "2021-06-14T17:56:39.406327",
          "exception": false,
          "start_time": "2021-06-14T17:56:39.383081",
          "status": "completed"
        },
        "tags": [],
        "id": "residential-fluid"
      },
      "source": [
        "X_train, X_test, y_train, y_test = train_test_split(X, y, test_size=0.33, random_state=42)"
      ],
      "id": "residential-fluid",
      "execution_count": 6,
      "outputs": []
    },
    {
      "cell_type": "markdown",
      "metadata": {
        "papermill": {
          "duration": 0.011215,
          "end_time": "2021-06-14T17:56:39.429086",
          "exception": false,
          "start_time": "2021-06-14T17:56:39.417871",
          "status": "completed"
        },
        "tags": [],
        "id": "round-routine"
      },
      "source": [
        "# Model"
      ],
      "id": "round-routine"
    },
    {
      "cell_type": "code",
      "metadata": {
        "execution": {
          "iopub.execute_input": "2021-06-14T17:56:39.457259Z",
          "iopub.status.busy": "2021-06-14T17:56:39.456567Z",
          "iopub.status.idle": "2021-06-14T17:56:39.478861Z",
          "shell.execute_reply": "2021-06-14T17:56:39.478305Z",
          "shell.execute_reply.started": "2021-06-14T17:52:17.493019Z"
        },
        "papermill": {
          "duration": 0.038677,
          "end_time": "2021-06-14T17:56:39.479021",
          "exception": false,
          "start_time": "2021-06-14T17:56:39.440344",
          "status": "completed"
        },
        "tags": [],
        "colab": {
          "base_uri": "https://localhost:8080/"
        },
        "id": "southern-magic",
        "outputId": "b5340a7c-afb9-4bc7-87d1-d468555c9e3b"
      },
      "source": [
        "model = LinearRegression()\n",
        "model.fit(X_train, y_train)\n",
        "# model.fit(X, y)"
      ],
      "id": "southern-magic",
      "execution_count": 7,
      "outputs": [
        {
          "output_type": "execute_result",
          "data": {
            "text/plain": [
              "LinearRegression(copy_X=True, fit_intercept=True, n_jobs=None, normalize=False)"
            ]
          },
          "metadata": {
            "tags": []
          },
          "execution_count": 7
        }
      ]
    },
    {
      "cell_type": "markdown",
      "metadata": {
        "papermill": {
          "duration": 0.011438,
          "end_time": "2021-06-14T17:56:39.502160",
          "exception": false,
          "start_time": "2021-06-14T17:56:39.490722",
          "status": "completed"
        },
        "tags": [],
        "id": "correct-favorite"
      },
      "source": [
        "# Analysis"
      ],
      "id": "correct-favorite"
    },
    {
      "cell_type": "code",
      "metadata": {
        "execution": {
          "iopub.execute_input": "2021-06-14T17:56:39.531036Z",
          "iopub.status.busy": "2021-06-14T17:56:39.530328Z",
          "iopub.status.idle": "2021-06-14T17:56:39.535689Z",
          "shell.execute_reply": "2021-06-14T17:56:39.536613Z",
          "shell.execute_reply.started": "2021-06-14T17:56:12.684494Z"
        },
        "papermill": {
          "duration": 0.023153,
          "end_time": "2021-06-14T17:56:39.536859",
          "exception": false,
          "start_time": "2021-06-14T17:56:39.513706",
          "status": "completed"
        },
        "tags": [],
        "colab": {
          "base_uri": "https://localhost:8080/"
        },
        "id": "greenhouse-mixer",
        "outputId": "6b0660f7-51ff-4b1d-f24b-b271f1f80fff"
      },
      "source": [
        "y_pred = model.predict(X_test)\n",
        "print(f\"Mean Squared Error: {mean_squared_error(y_pred, y_test)}\")"
      ],
      "id": "greenhouse-mixer",
      "execution_count": 8,
      "outputs": [
        {
          "output_type": "stream",
          "text": [
            "Mean Squared Error: 76715223988.35832\n"
          ],
          "name": "stdout"
        }
      ]
    },
    {
      "cell_type": "code",
      "metadata": {
        "execution": {
          "iopub.execute_input": "2021-06-14T17:56:39.574680Z",
          "iopub.status.busy": "2021-06-14T17:56:39.574004Z",
          "iopub.status.idle": "2021-06-14T17:56:39.803791Z",
          "shell.execute_reply": "2021-06-14T17:56:39.803149Z",
          "shell.execute_reply.started": "2021-06-14T17:54:22.963102Z"
        },
        "papermill": {
          "duration": 0.253065,
          "end_time": "2021-06-14T17:56:39.803948",
          "exception": false,
          "start_time": "2021-06-14T17:56:39.550883",
          "status": "completed"
        },
        "tags": [],
        "colab": {
          "base_uri": "https://localhost:8080/",
          "height": 295
        },
        "id": "micro-clear",
        "outputId": "00eb4464-bbc9-43a8-984d-0d5ceefce362"
      },
      "source": [
        "#Visualizing the training Test Results \n",
        "plt.scatter(X_train, y_train, color= 'red')\n",
        "plt.plot(X_train, model.predict(X_train), color = 'blue')\n",
        "plt.title (\"Visuals for Training Dataset\")\n",
        "plt.xlabel(\"Space\")\n",
        "plt.ylabel(\"Price\")\n",
        "plt.show()"
      ],
      "id": "micro-clear",
      "execution_count": 9,
      "outputs": [
        {
          "output_type": "display_data",
          "data": {
            "image/png": "[encoded data removed]",
            "text/plain": [
              "<Figure size 432x288 with 1 Axes>"
            ]
          },
          "metadata": {
            "tags": [],
            "needs_background": "light"
          }
        }
      ]
    },
    {
      "cell_type": "code",
      "metadata": {
        "execution": {
          "iopub.execute_input": "2021-06-14T17:56:39.847351Z",
          "iopub.status.busy": "2021-06-14T17:56:39.846316Z",
          "iopub.status.idle": "2021-06-14T17:56:40.018009Z",
          "shell.execute_reply": "2021-06-14T17:56:40.017405Z",
          "shell.execute_reply.started": "2021-06-14T17:54:23.200306Z"
        },
        "papermill": {
          "duration": 0.201564,
          "end_time": "2021-06-14T17:56:40.018154",
          "exception": false,
          "start_time": "2021-06-14T17:56:39.816590",
          "status": "completed"
        },
        "tags": [],
        "colab": {
          "base_uri": "https://localhost:8080/",
          "height": 295
        },
        "id": "subject-burner",
        "outputId": "caea6495-177d-4ed3-b157-781acf97664f"
      },
      "source": [
        "#Visualizing the Test Results \n",
        "plt.scatter(X_test, y_test, color= 'red')\n",
        "plt.plot(X_test, model.predict(X_test), color = 'blue')\n",
        "plt.title(\"Visuals for Test DataSet\")\n",
        "plt.xlabel(\"Space\")\n",
        "plt.ylabel(\"Price\")\n",
        "plt.show()"
      ],
      "id": "subject-burner",
      "execution_count": 10,
      "outputs": [
        {
          "output_type": "display_data",
          "data": {
            "image/png": "[encoded data removed]",
            "text/plain": [
              "<Figure size 432x288 with 1 Axes>"
            ]
          },
          "metadata": {
            "tags": [],
            "needs_background": "light"
          }
        }
      ]
    },
    {
      "cell_type": "code",
      "metadata": {
        "papermill": {
          "duration": 0.013653,
          "end_time": "2021-06-14T17:56:40.045622",
          "exception": false,
          "start_time": "2021-06-14T17:56:40.031969",
          "status": "completed"
        },
        "tags": [],
        "id": "realistic-beijing"
      },
      "source": [
        ""
      ],
      "id": "realistic-beijing",
      "execution_count": null,
      "outputs": []
    }
  ]
}